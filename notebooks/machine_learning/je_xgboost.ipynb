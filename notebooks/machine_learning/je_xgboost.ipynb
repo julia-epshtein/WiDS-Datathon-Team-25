{
 "cells": [
  {
   "cell_type": "code",
   "execution_count": 26,
   "metadata": {},
   "outputs": [],
   "source": [
    "import os\n",
    "from pathlib import Path\n",
    "\n",
    "import numpy as np\n",
    "import pandas as pd\n",
    "import matplotlib.pyplot as plt\n",
    "\n",
    "from xgboost import XGBClassifier\n",
    "from sklearn.multioutput import MultiOutputClassifier"
   ]
  },
  {
   "cell_type": "code",
   "execution_count": 27,
   "metadata": {},
   "outputs": [],
   "source": [
    "# Paths\n",
    "DATA_DIR = Path(\"../../data/preprocessed\")\n",
    "SAVE_DIR = Path(\"../../results\")\n",
    "SAVE_DIR.mkdir(parents=True, exist_ok=True) "
   ]
  },
  {
   "cell_type": "code",
   "execution_count": 28,
   "metadata": {},
   "outputs": [],
   "source": [
    "# Dataset names and their corresponding filenames\n",
    "datasets = {\n",
    "    \"pca\": (\"train_data_pca.csv\", \"test_data_pca.csv\"),\n",
    "    \"scaled\": (\"train_data_scaled.csv\", \"test_data_scaled.csv\"),\n",
    "    \"raw\": (\"train_data.csv\", \"test_data.csv\"),\n",
    "}"
   ]
  },
  {
   "cell_type": "code",
   "execution_count": 29,
   "metadata": {},
   "outputs": [
    {
     "data": {
      "text/html": [
       "<div>\n",
       "<style scoped>\n",
       "    .dataframe tbody tr th:only-of-type {\n",
       "        vertical-align: middle;\n",
       "    }\n",
       "\n",
       "    .dataframe tbody tr th {\n",
       "        vertical-align: top;\n",
       "    }\n",
       "\n",
       "    .dataframe thead th {\n",
       "        text-align: right;\n",
       "    }\n",
       "</style>\n",
       "<table border=\"1\" class=\"dataframe\">\n",
       "  <thead>\n",
       "    <tr style=\"text-align: right;\">\n",
       "      <th></th>\n",
       "      <th>ADHD_Outcome</th>\n",
       "      <th>Sex_F</th>\n",
       "    </tr>\n",
       "    <tr>\n",
       "      <th>participant_id</th>\n",
       "      <th></th>\n",
       "      <th></th>\n",
       "    </tr>\n",
       "  </thead>\n",
       "  <tbody>\n",
       "    <tr>\n",
       "      <th>UmrK0vMLopoR</th>\n",
       "      <td>1</td>\n",
       "      <td>1</td>\n",
       "    </tr>\n",
       "    <tr>\n",
       "      <th>CPaeQkhcjg7d</th>\n",
       "      <td>1</td>\n",
       "      <td>0</td>\n",
       "    </tr>\n",
       "    <tr>\n",
       "      <th>Nb4EetVPm3gs</th>\n",
       "      <td>1</td>\n",
       "      <td>0</td>\n",
       "    </tr>\n",
       "    <tr>\n",
       "      <th>p4vPhVu91o4b</th>\n",
       "      <td>1</td>\n",
       "      <td>1</td>\n",
       "    </tr>\n",
       "    <tr>\n",
       "      <th>M09PXs7arQ5E</th>\n",
       "      <td>1</td>\n",
       "      <td>1</td>\n",
       "    </tr>\n",
       "  </tbody>\n",
       "</table>\n",
       "</div>"
      ],
      "text/plain": [
       "                ADHD_Outcome  Sex_F\n",
       "participant_id                     \n",
       "UmrK0vMLopoR               1      1\n",
       "CPaeQkhcjg7d               1      0\n",
       "Nb4EetVPm3gs               1      0\n",
       "p4vPhVu91o4b               1      1\n",
       "M09PXs7arQ5E               1      1"
      ]
     },
     "execution_count": 29,
     "metadata": {},
     "output_type": "execute_result"
    }
   ],
   "source": [
    "# Load target labels\n",
    "y_train = pd.read_excel(\"../../data/raw/widsdatathon2025/TRAIN/TRAINING_SOLUTIONS.xlsx\")\n",
    "y_train = y_train.set_index(\"participant_id\")\n",
    "y_train.head()"
   ]
  },
  {
   "cell_type": "code",
   "execution_count": 30,
   "metadata": {},
   "outputs": [],
   "source": [
    "def load_data(train_file, test_file):\n",
    "    \"\"\"Load training and test datasets\"\"\"\n",
    "    # Create X_train and X_test\n",
    "    X_train = pd.read_csv(DATA_DIR / train_file)\n",
    "    X_test = pd.read_csv(DATA_DIR / test_file)\n",
    "\n",
    "    # Extract participant IDs and set index\n",
    "    participant_id = X_test[\"participant_id\"]  \n",
    "    X_train = X_train.set_index(\"participant_id\") \n",
    "    X_test = X_test.set_index(\"participant_id\") \n",
    "\n",
    "    return X_train, X_test, participant_id"
   ]
  },
  {
   "cell_type": "code",
   "execution_count": 31,
   "metadata": {},
   "outputs": [],
   "source": [
    "def train_model(X_train, y_train):\n",
    "    \"\"\"Train an XGBoost MultiOutputClassifier model.\"\"\"\n",
    "    xgb_classifier = XGBClassifier(objective='binary:logistic', n_estimators=100, learning_rate=0.1, max_depth=5)\n",
    "    multioutput_classifier = MultiOutputClassifier(xgb_classifier)\n",
    "    multioutput_classifier.fit(X_train, y_train)\n",
    "    return multioutput_classifier"
   ]
  },
  {
   "cell_type": "code",
   "execution_count": 32,
   "metadata": {},
   "outputs": [],
   "source": [
    "\n",
    "def predict_and_save(model, X_test, participant_id, dataset_name):\n",
    "    \"\"\"Generate predictions and save results.\"\"\"\n",
    "    y_pred = model.predict(X_test)\n",
    "\n",
    "    # Convert predictions to a DataFrame\n",
    "    predictions_df = pd.DataFrame(\n",
    "        y_pred, columns=['Predicted_Gender', 'Predicted_ADHD'], index=X_test.index\n",
    "    )\n",
    "\n",
    "    result_df = predictions_df.reset_index()\n",
    "\n",
    "    # Save the results\n",
    "    result_file = SAVE_DIR / f\"{dataset_name}_xgb.csv\"\n",
    "    result_df.to_csv(result_file, index=False)\n",
    "\n",
    "    print(f\"Results saved to {result_file}\")"
   ]
  },
  {
   "cell_type": "code",
   "execution_count": 33,
   "metadata": {},
   "outputs": [
    {
     "name": "stdout",
     "output_type": "stream",
     "text": [
      "Processing dataset: pca\n",
      "Results saved to ../../results/pca_xgb.csv\n",
      "Processing dataset: scaled\n",
      "Results saved to ../../results/scaled_xgb.csv\n",
      "Processing dataset: raw\n"
     ]
    }
   ],
   "source": [
    "for dataset_name, (train_file, test_file) in datasets.items():\n",
    "    print(f\"Processing dataset: {dataset_name}\")\n",
    "\n",
    "    # Load data\n",
    "    X_train, X_test, participant_id = load_data(train_file, test_file)\n",
    "\n",
    "    # Train model\n",
    "    model = train_model(X_train, y_train)\n",
    "\n",
    "    # Predict and save results\n",
    "    predict_and_save(model, X_test, participant_id, dataset_name)"
   ]
  }
 ],
 "metadata": {
  "kernelspec": {
   "display_name": "venv",
   "language": "python",
   "name": "python3"
  },
  "language_info": {
   "codemirror_mode": {
    "name": "ipython",
    "version": 3
   },
   "file_extension": ".py",
   "mimetype": "text/x-python",
   "name": "python",
   "nbconvert_exporter": "python",
   "pygments_lexer": "ipython3",
   "version": "3.12.7"
  },
  "orig_nbformat": 4
 },
 "nbformat": 4,
 "nbformat_minor": 2
}
