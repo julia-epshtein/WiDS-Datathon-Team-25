{
 "cells": [
  {
   "cell_type": "code",
   "execution_count": 34,
   "metadata": {},
   "outputs": [],
   "source": [
    "import os\n",
    "from pathlib import Path\n",
    "\n",
    "import numpy as np\n",
    "import pandas as pd\n",
    "import matplotlib.pyplot as plt\n",
    "from sklearn.preprocessing import StandardScaler\n",
    "from sklearn.decomposition import PCA"
   ]
  },
  {
   "cell_type": "code",
   "execution_count": 35,
   "metadata": {},
   "outputs": [],
   "source": [
    "# Base directory\n",
    "BASE_DIR = Path(\"../../data\")\n",
    "RAW_DIR = BASE_DIR / \"raw\" / \"widsdatathon2025\"\n",
    "PROCESSED_DIR = BASE_DIR / \"preprocessed\"\n",
    "PROCESSED_DIR.mkdir(parents=True, exist_ok=True)"
   ]
  },
  {
   "cell_type": "code",
   "execution_count": 36,
   "metadata": {},
   "outputs": [],
   "source": [
    "# Load Training Data\n",
    "train_cat = pd.read_excel(RAW_DIR / \"TRAIN/TRAIN_CATEGORICAL_METADATA.xlsx\")\n",
    "train_fcm = pd.read_csv(RAW_DIR / \"TRAIN/TRAIN_FUNCTIONAL_CONNECTOME_MATRICES.csv\")\n",
    "train_quant = pd.read_excel(RAW_DIR / \"TRAIN/TRAIN_QUANTITATIVE_METADATA.xlsx\")\n",
    "train_solutions = pd.read_excel(RAW_DIR / \"TRAIN/TRAINING_SOLUTIONS.xlsx\")"
   ]
  },
  {
   "cell_type": "code",
   "execution_count": 37,
   "metadata": {},
   "outputs": [],
   "source": [
    "# Load Test Data\n",
    "test_cat = pd.read_excel(RAW_DIR / \"TEST/TEST_CATEGORICAL.xlsx\")\n",
    "test_fcm = pd.read_csv(RAW_DIR / \"TEST/TEST_FUNCTIONAL_CONNECTOME_MATRICES.csv\")\n",
    "test_quant = pd.read_excel(RAW_DIR / \"TEST/TEST_QUANTITATIVE_METADATA.xlsx\")"
   ]
  },
  {
   "cell_type": "code",
   "execution_count": 38,
   "metadata": {},
   "outputs": [
    {
     "name": "stdout",
     "output_type": "stream",
     "text": [
      "Number of columns in train_cat 10\n",
      "Number of columns in test_cat 10\n",
      "Number of columns in train_fcm 19901\n",
      "Number of columns in test_fcm 19901\n",
      "Number of columns in train_quant 19\n",
      "Number of columns in test_quant 19\n",
      "Number of columns in train_solutions 3\n"
     ]
    }
   ],
   "source": [
    "# print number of columns\n",
    "print(f\"Number of columns in train_cat {len(train_cat.columns)}\")\n",
    "print(f\"Number of columns in test_cat {len(test_cat.columns)}\")\n",
    "\n",
    "print(f\"Number of columns in train_fcm {len(train_fcm.columns)}\")\n",
    "print(f\"Number of columns in test_fcm {len(test_fcm.columns)}\")\n",
    "\n",
    "print(f\"Number of columns in train_quant {len(train_quant.columns)}\")\n",
    "print(f\"Number of columns in test_quant {len(test_quant.columns)}\")\n",
    "\n",
    "print(f\"Number of columns in train_solutions {len(train_solutions.columns)}\")"
   ]
  },
  {
   "cell_type": "code",
   "execution_count": 39,
   "metadata": {},
   "outputs": [
    {
     "data": {
      "text/plain": [
       "[]"
      ]
     },
     "execution_count": 39,
     "metadata": {},
     "output_type": "execute_result"
    }
   ],
   "source": [
    "# See if any columns are different \n",
    "columns_train_cat = set(train_cat.columns)\n",
    "columns_test_cat = set(test_cat.columns)\n",
    "diff = list(columns_train_cat - columns_test_cat)\n",
    "diff"
   ]
  },
  {
   "cell_type": "code",
   "execution_count": 40,
   "metadata": {},
   "outputs": [
    {
     "name": "stderr",
     "output_type": "stream",
     "text": [
      "/var/folders/qq/2xq_hbb10j75t18jqwpwnfzh0000gn/T/ipykernel_4524/2307149497.py:9: FutureWarning: DataFrame.applymap has been deprecated. Use DataFrame.map instead.\n",
      "  encoded = encoded.applymap(lambda x: 1 if x is True else (0 if x is False else x)) # Copied from tutorial\n",
      "/var/folders/qq/2xq_hbb10j75t18jqwpwnfzh0000gn/T/ipykernel_4524/2307149497.py:9: FutureWarning: DataFrame.applymap has been deprecated. Use DataFrame.map instead.\n",
      "  encoded = encoded.applymap(lambda x: 1 if x is True else (0 if x is False else x)) # Copied from tutorial\n"
     ]
    }
   ],
   "source": [
    "def one_hot_encode(df, reference_cols=None):\n",
    "    \"\"\"Convert integer categorical columns to category type, then one-hot encode.\"\"\"\n",
    "    for col in df.select_dtypes(include='int').columns:\n",
    "        df[col] = df[col].astype('category')\n",
    "\n",
    "    columns_to_encode = df.columns[1:].tolist()  # Remove participant_id\n",
    "    encoded = pd.get_dummies(df[columns_to_encode], drop_first=True)\n",
    "\n",
    "    encoded = encoded.applymap(lambda x: 1 if x is True else (0 if x is False else x)) # Copied from tutorial\n",
    "\n",
    "    if reference_cols is not None:\n",
    "        # Making sure that the test set has same number columns as train set after encoding\n",
    "        missing_cols = set(reference_cols) - set(encoded.columns)\n",
    "        for col in missing_cols:\n",
    "            encoded[col] = 0  # Fill in missing columns with just zeros\n",
    "        \n",
    "        encoded = encoded[reference_cols]  # Reorder columns to match train set\n",
    "\n",
    "    return pd.concat([df.drop(columns=columns_to_encode), encoded], axis=1)\n",
    "\n",
    "# One-hot encode train set\n",
    "train_cat_encoded = one_hot_encode(train_cat)\n",
    "\n",
    "# Get reference columns after encoding\n",
    "reference_columns = train_cat_encoded.columns[1:].tolist() \n",
    "\n",
    "# One-hot encode test set using train's columns\n",
    "test_cat_encoded = one_hot_encode(test_cat, reference_cols=reference_columns)\n"
   ]
  },
  {
   "cell_type": "code",
   "execution_count": 41,
   "metadata": {},
   "outputs": [
    {
     "name": "stdout",
     "output_type": "stream",
     "text": [
      "number of columns in train_cat_encoded 55\n",
      "number of columns in test_cat_encoded 55\n"
     ]
    }
   ],
   "source": [
    "# Number of columns after one hot encoding\n",
    "print(f\"number of columns in train_cat_encoded {len(train_cat_encoded.columns)}\")\n",
    "print(f\"number of columns in test_cat_encoded {len(test_cat_encoded.columns)}\")"
   ]
  },
  {
   "cell_type": "code",
   "execution_count": 42,
   "metadata": {},
   "outputs": [],
   "source": [
    "# Merge DataFrames for Train & Test\n",
    "# Using outer join to keep all participant IDs (fills in missing values with NaN)\n",
    "train_cat_fcm = pd.merge(train_cat_encoded, train_fcm, on='participant_id', how='outer')\n",
    "train_df = pd.merge(train_cat_fcm, train_quant, on='participant_id', how='outer')\n",
    "\n",
    "test_cat_fcm = pd.merge(test_cat_encoded, test_fcm, on='participant_id', how='outer')\n",
    "test_df = pd.merge(test_cat_fcm, test_quant, on='participant_id', how='outer')"
   ]
  },
  {
   "cell_type": "code",
   "execution_count": 43,
   "metadata": {},
   "outputs": [
    {
     "name": "stdout",
     "output_type": "stream",
     "text": [
      "Number of columns in train_df: 19973\n",
      "Number of columns in test_df: 19973\n"
     ]
    }
   ],
   "source": [
    "# Get number of columns\n",
    "print(f\"Number of columns in train_df: {len(train_df.columns)}\")\n",
    "print(f\"Number of columns in test_df: {len(test_df.columns)}\")"
   ]
  },
  {
   "cell_type": "code",
   "execution_count": 44,
   "metadata": {},
   "outputs": [],
   "source": [
    "# Handle Missing Values\n",
    "def fill_missing_values(df):\n",
    "    \"\"\"Fill missing values with column means for numerical columns.\"\"\"\n",
    "    for col in df.columns:\n",
    "        if df[col].isna().sum() > 0 and df[col].dtype in ['float64', 'int64']:\n",
    "            df[col] = df[col].fillna(df[col].mean())\n",
    "    return df\n",
    "\n",
    "train_df = fill_missing_values(train_df)\n",
    "test_df = fill_missing_values(test_df)"
   ]
  },
  {
   "cell_type": "code",
   "execution_count": 45,
   "metadata": {},
   "outputs": [],
   "source": [
    "# Train and Test Split\n",
    "X_train = train_df.drop(columns=['participant_id'])\n",
    "y_train = train_solutions.drop(columns=['participant_id'])\n",
    "\n",
    "X_test = test_df.drop(columns=['participant_id'])"
   ]
  },
  {
   "cell_type": "code",
   "execution_count": 46,
   "metadata": {},
   "outputs": [],
   "source": [
    "# Normalize Data using Standard Scaler\n",
    "scaler = StandardScaler()\n",
    "X_train_normalized = scaler.fit_transform(X_train)\n",
    "X_test_normalized = scaler.transform(X_test) \n",
    "\n",
    "# Convert back to dataframe\n",
    "X_train_normalized = pd.DataFrame(X_train_normalized, columns=X_train.columns)\n",
    "X_test_normalized = pd.DataFrame(X_test_normalized, columns=X_test.columns)"
   ]
  },
  {
   "cell_type": "code",
   "execution_count": 47,
   "metadata": {},
   "outputs": [
    {
     "data": {
      "image/png": "[encoded data removed]",
      "text/plain": [
       "<Figure size 1000x500 with 1 Axes>"
      ]
     },
     "metadata": {},
     "output_type": "display_data"
    },
    {
     "name": "stdout",
     "output_type": "stream",
     "text": [
      "Number of components needed to explain 90% variance: 1007\n"
     ]
    }
   ],
   "source": [
    "# Determine optimal components to explain 90% variance\n",
    "pca_full = PCA().fit(X_train_normalized)\n",
    "cumulative_variance = np.cumsum(pca_full.explained_variance_ratio_)\n",
    "n_components_90 = np.argmax(cumulative_variance >= 0.90) + 1\n",
    "\n",
    "# Plot cumulative explained variance\n",
    "plt.figure(figsize=(10, 5))\n",
    "plt.plot(cumulative_variance)\n",
    "plt.xlabel('Number of Components')\n",
    "plt.ylabel('Cumulative Explained Variance')\n",
    "plt.title('PCA: Explained Variance vs. Number of Components')\n",
    "plt.grid()\n",
    "plt.show()\n",
    "\n",
    "print(f\"Number of components needed to explain 90% variance: {n_components_90}\")"
   ]
  },
  {
   "cell_type": "code",
   "execution_count": 48,
   "metadata": {},
   "outputs": [],
   "source": [
    "# PCA\n",
    "pca = PCA(n_components=n_components_90) # Using best number of components\n",
    "X_train_pca = pca.fit_transform(X_train_normalized)\n",
    "X_test_pca = pca.transform(X_test_normalized) \n",
    "\n",
    "# Convert PCA results to DataFrame\n",
    "X_train_pca = pd.DataFrame(X_train_pca, columns=[f'PC{i+1}' for i in range(n_components_90)])\n",
    "X_test_pca = pd.DataFrame(X_test_pca, columns=[f'PC{i+1}' for i in range(n_components_90)])"
   ]
  },
  {
   "cell_type": "code",
   "execution_count": 49,
   "metadata": {},
   "outputs": [],
   "source": [
    "# Add back participant_id\n",
    "X_train_normalized.insert(0, 'participant_id', train_df['participant_id'].values)\n",
    "X_test_normalized.insert(0, 'participant_id', test_df['participant_id'].values)\n",
    "\n",
    "X_train_pca.insert(0, 'participant_id', train_df['participant_id'].values)\n",
    "X_test_pca.insert(0, 'participant_id', test_df['participant_id'].values)"
   ]
  },
  {
   "cell_type": "code",
   "execution_count": 50,
   "metadata": {},
   "outputs": [],
   "source": [
    "# Save Processed Data\n",
    "train_df.to_csv(PROCESSED_DIR / \"train_data.csv\", index=False)\n",
    "test_df.to_csv(PROCESSED_DIR / \"test_data.csv\", index=False)\n",
    "\n",
    "X_train_normalized.to_csv(PROCESSED_DIR / \"train_data_scaled.csv\", index=False)\n",
    "X_test_normalized.to_csv(PROCESSED_DIR / \"test_data_scaled.csv\", index=False) \n",
    "\n",
    "X_train_pca.to_csv(PROCESSED_DIR / \"train_data_pca.csv\", index=False)\n",
    "X_test_pca.to_csv(PROCESSED_DIR / \"test_data_pca.csv\", index=False)  "
   ]
  }
 ],
 "metadata": {
  "kernelspec": {
   "display_name": "venv",
   "language": "python",
   "name": "python3"
  },
  "language_info": {
   "codemirror_mode": {
    "name": "ipython",
    "version": 3
   },
   "file_extension": ".py",
   "mimetype": "text/x-python",
   "name": "python",
   "nbconvert_exporter": "python",
   "pygments_lexer": "ipython3",
   "version": "3.12.7"
  },
  "orig_nbformat": 4
 },
 "nbformat": 4,
 "nbformat_minor": 2
}
