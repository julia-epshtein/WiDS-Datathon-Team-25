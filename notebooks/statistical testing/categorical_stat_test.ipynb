{
 "cells": [
  {
   "cell_type": "code",
   "execution_count": 3,
   "id": "9ac52e03-73e7-4e20-9022-135c1021aa1d",
   "metadata": {},
   "outputs": [],
   "source": [
    "from scipy.stats import chi2_contingency\n",
    "import pandas as pd"
   ]
  },
  {
   "cell_type": "code",
   "execution_count": 4,
   "id": "d9aa00b6-30db-4b42-bf43-5e02eabf4630",
   "metadata": {},
   "outputs": [],
   "source": [
    "#edit paths as needed: i am not very good with OS, i prefer to just hard code the paths so replace it with the actual path to the data OR help me fix hehe\n",
    "train_cat = pd.read_csv('C:/Users/linds/OneDrive/Desktop/WIDS/WiDS-Datathon-Team-25/data/preprocessed/train_data.csv')\n",
    "train_sex = pd.read_excel('C:/Users/linds/OneDrive/Desktop/WIDS/WiDS-Datathon-Team-25/data/raw/TRAIN/TRAINING_SOLUTIONS.xlsx')\n",
    "combined_df = pd.merge(train_cat, train_sex, on='participant_id')\n",
    "# print(combined_df.head())"
   ]
  },
  {
   "cell_type": "code",
   "execution_count": 5,
   "id": "b973e3d8-4173-4053-8a02-263a41593790",
   "metadata": {},
   "outputs": [],
   "source": [
    "#CHI SQUARE TEST OF ADHD_OUTCOME AND EVERY VARIABLE, PRINTING CHI SQ AND P VALUE"
   ]
  },
  {
   "cell_type": "code",
   "execution_count": 6,
   "id": "97f3f734-9c92-4cb0-a829-b62a6cd6af01",
   "metadata": {},
   "outputs": [
    {
     "name": "stdout",
     "output_type": "stream",
     "text": [
      "Chi-Square test of demographic variables and adhd outcome\n",
      "PreInt_Demos_Fam_Child_Ethnicity: Chi-Square = 3.113, p-value = 0.53912\n",
      "Basic_Demos_Enroll_Year_2016: Chi-Square = 7.027, p-value = 0.00803\n",
      "Basic_Demos_Enroll_Year_2017: Chi-Square = 0.117, p-value = 0.73198\n",
      "Basic_Demos_Enroll_Year_2018: Chi-Square = 3.847, p-value = 0.04983\n",
      "Basic_Demos_Enroll_Year_2019: Chi-Square = 0.015, p-value = 0.90121\n",
      "Basic_Demos_Enroll_Year_2020: Chi-Square = 0.242, p-value = 0.62266\n",
      "Basic_Demos_Study_Site_2: Chi-Square = 1.012, p-value = 0.31432\n",
      "Basic_Demos_Study_Site_3: Chi-Square = 0.425, p-value = 0.51439\n",
      "Basic_Demos_Study_Site_4: Chi-Square = 0.576, p-value = 0.44796\n",
      "PreInt_Demos_Fam_Child_Race_1: Chi-Square = 0.401, p-value = 0.52632\n",
      "PreInt_Demos_Fam_Child_Race_2: Chi-Square = 0.614, p-value = 0.43311\n",
      "PreInt_Demos_Fam_Child_Race_3: Chi-Square = 0.102, p-value = 0.74913\n",
      "PreInt_Demos_Fam_Child_Race_4: Chi-Square = 0.242, p-value = 0.62266\n",
      "PreInt_Demos_Fam_Child_Race_7: Chi-Square = 0.000, p-value = 1.00000\n",
      "PreInt_Demos_Fam_Child_Race_8: Chi-Square = 1.682, p-value = 0.19463\n",
      "PreInt_Demos_Fam_Child_Race_9: Chi-Square = 0.000, p-value = 0.99021\n",
      "PreInt_Demos_Fam_Child_Race_10: Chi-Square = 0.000, p-value = 0.98714\n",
      "PreInt_Demos_Fam_Child_Race_11: Chi-Square = 0.167, p-value = 0.68244\n",
      "MRI_Track_Scan_Location_1: Chi-Square = 1.996, p-value = 0.15773\n",
      "MRI_Track_Scan_Location_2: Chi-Square = 0.393, p-value = 0.53072\n",
      "MRI_Track_Scan_Location_3: Chi-Square = 3.607, p-value = 0.05752\n",
      "MRI_Track_Scan_Location_4: Chi-Square = 0.398, p-value = 0.52807\n",
      "Barratt_Barratt_P1_Edu_3: Chi-Square = 0.097, p-value = 0.75582\n",
      "Barratt_Barratt_P1_Edu_6: Chi-Square = 0.043, p-value = 0.83630\n",
      "Barratt_Barratt_P1_Edu_9: Chi-Square = 1.571, p-value = 0.21001\n",
      "Barratt_Barratt_P1_Edu_12: Chi-Square = 0.005, p-value = 0.94189\n",
      "Barratt_Barratt_P1_Edu_15: Chi-Square = 2.642, p-value = 0.10406\n",
      "Barratt_Barratt_P1_Edu_18: Chi-Square = 2.983, p-value = 0.08415\n",
      "Barratt_Barratt_P1_Edu_21: Chi-Square = 0.000, p-value = 1.00000\n",
      "Barratt_Barratt_P1_Occ_5: Chi-Square = 0.005, p-value = 0.94501\n",
      "Barratt_Barratt_P1_Occ_10: Chi-Square = 0.000, p-value = 1.00000\n",
      "Barratt_Barratt_P1_Occ_15: Chi-Square = 0.070, p-value = 0.79195\n",
      "Barratt_Barratt_P1_Occ_20: Chi-Square = 4.522, p-value = 0.03345\n",
      "Barratt_Barratt_P1_Occ_25: Chi-Square = 0.878, p-value = 0.34881\n",
      "Barratt_Barratt_P1_Occ_30: Chi-Square = 1.824, p-value = 0.17687\n",
      "Barratt_Barratt_P1_Occ_35: Chi-Square = 0.999, p-value = 0.31752\n",
      "Barratt_Barratt_P1_Occ_40: Chi-Square = 0.116, p-value = 0.73374\n",
      "Barratt_Barratt_P1_Occ_45: Chi-Square = 0.008, p-value = 0.92759\n",
      "Barratt_Barratt_P2_Edu_3: Chi-Square = 0.000, p-value = 1.00000\n",
      "Barratt_Barratt_P2_Edu_6: Chi-Square = 0.043, p-value = 0.83630\n",
      "Barratt_Barratt_P2_Edu_9: Chi-Square = 1.419, p-value = 0.23364\n",
      "Barratt_Barratt_P2_Edu_12: Chi-Square = 0.008, p-value = 0.93050\n",
      "Barratt_Barratt_P2_Edu_15: Chi-Square = 0.144, p-value = 0.70412\n",
      "Barratt_Barratt_P2_Edu_18: Chi-Square = 0.445, p-value = 0.50470\n",
      "Barratt_Barratt_P2_Edu_21: Chi-Square = 0.052, p-value = 0.82040\n",
      "Barratt_Barratt_P2_Occ_5: Chi-Square = 0.000, p-value = 0.99481\n",
      "Barratt_Barratt_P2_Occ_10: Chi-Square = 0.000, p-value = 1.00000\n",
      "Barratt_Barratt_P2_Occ_15: Chi-Square = 1.543, p-value = 0.21414\n",
      "Barratt_Barratt_P2_Occ_20: Chi-Square = 0.385, p-value = 0.53476\n",
      "Barratt_Barratt_P2_Occ_25: Chi-Square = 1.450, p-value = 0.22845\n",
      "Barratt_Barratt_P2_Occ_30: Chi-Square = 0.133, p-value = 0.71578\n",
      "Barratt_Barratt_P2_Occ_35: Chi-Square = 0.011, p-value = 0.91531\n",
      "Barratt_Barratt_P2_Occ_40: Chi-Square = 1.294, p-value = 0.25524\n",
      "Barratt_Barratt_P2_Occ_45: Chi-Square = 0.252, p-value = 0.61533\n",
      "Sex_F: Chi-Square = 5.432, p-value = 0.01977\n"
     ]
    }
   ],
   "source": [
    "# List of categorical columns (excluding participant_id & ADHD_Outcome)\n",
    "cat_columns = [col for col in combined_df.columns if combined_df[col].nunique() < 10 and col not in ['participant_id', 'ADHD_Outcome']]\n",
    "print(\"Chi-Square test of demographic variables and adhd outcome\")\n",
    "# Loop through categorical variables and run Chi-Square test\n",
    "significant_cat = {} #initialize dictionary for p values that are < 0.05\n",
    "for col in cat_columns:\n",
    "    contingency_table = pd.crosstab(combined_df[col], combined_df['ADHD_Outcome'])\n",
    "    chi2, p, _, _ = chi2_contingency(contingency_table)\n",
    "    print(f\"{col}: Chi-Square = {chi2:.3f}, p-value = {p:.5f}\")\n",
    "    if p < 0.05: #if p val < 0.05, add to dict\n",
    "        significant_cat[col] = p"
   ]
  },
  {
   "cell_type": "code",
   "execution_count": 7,
   "id": "3d2e3916-2888-4aa5-a69f-026b31eab20a",
   "metadata": {},
   "outputs": [
    {
     "name": "stdout",
     "output_type": "stream",
     "text": [
      "-----------------------\n",
      "Significant Categorical Features with ADHD Outcome (p < 0.05):\n",
      "Basic_Demos_Enroll_Year_2016: p-value = 0.00803\n",
      "Basic_Demos_Enroll_Year_2018: p-value = 0.04983\n",
      "Barratt_Barratt_P1_Occ_20: p-value = 0.03345\n",
      "Sex_F: p-value = 0.01977\n"
     ]
    }
   ],
   "source": [
    "print(\"-----------------------\")\n",
    "print(\"Significant Categorical Features with ADHD Outcome (p < 0.05):\")\n",
    "for col, p in significant_cat.items(): #print dict w significant p vals\n",
    "    print(f\"{col}: p-value = {p:.5f}\")"
   ]
  },
  {
   "cell_type": "code",
   "execution_count": 8,
   "id": "40dc8cc0-1cdb-4345-a812-747839d23c32",
   "metadata": {},
   "outputs": [
    {
     "data": {
      "text/plain": [
       "'\\nrepeat the process but use gender instead of adhd_outcome \\n'"
      ]
     },
     "execution_count": 8,
     "metadata": {},
     "output_type": "execute_result"
    }
   ],
   "source": [
    "'''\n",
    "repeat the process but use gender instead of adhd_outcome \n",
    "'''"
   ]
  },
  {
   "cell_type": "code",
   "execution_count": 9,
   "id": "f29410e8-8d68-4e5b-be3e-f724f74f5199",
   "metadata": {},
   "outputs": [
    {
     "name": "stdout",
     "output_type": "stream",
     "text": [
      "Chi-Square test of demographic variables and sex\n",
      "PreInt_Demos_Fam_Child_Ethnicity: Chi-Square = 3.455, p-value = 0.48478\n",
      "Basic_Demos_Enroll_Year_2016: Chi-Square = 0.007, p-value = 0.93143\n",
      "Basic_Demos_Enroll_Year_2017: Chi-Square = 0.918, p-value = 0.33787\n",
      "Basic_Demos_Enroll_Year_2018: Chi-Square = 0.133, p-value = 0.71515\n",
      "Basic_Demos_Enroll_Year_2019: Chi-Square = 1.110, p-value = 0.29207\n",
      "Basic_Demos_Enroll_Year_2020: Chi-Square = 0.007, p-value = 0.93229\n",
      "Basic_Demos_Study_Site_2: Chi-Square = 0.000, p-value = 1.00000\n",
      "Basic_Demos_Study_Site_3: Chi-Square = 0.524, p-value = 0.46897\n",
      "Basic_Demos_Study_Site_4: Chi-Square = 0.003, p-value = 0.95846\n",
      "PreInt_Demos_Fam_Child_Race_1: Chi-Square = 1.458, p-value = 0.22731\n",
      "PreInt_Demos_Fam_Child_Race_2: Chi-Square = 0.727, p-value = 0.39381\n",
      "PreInt_Demos_Fam_Child_Race_3: Chi-Square = 0.051, p-value = 0.82117\n",
      "PreInt_Demos_Fam_Child_Race_4: Chi-Square = 0.771, p-value = 0.37995\n",
      "PreInt_Demos_Fam_Child_Race_7: Chi-Square = 0.000, p-value = 1.00000\n",
      "PreInt_Demos_Fam_Child_Race_8: Chi-Square = 0.864, p-value = 0.35272\n",
      "PreInt_Demos_Fam_Child_Race_9: Chi-Square = 0.071, p-value = 0.79003\n",
      "PreInt_Demos_Fam_Child_Race_10: Chi-Square = 0.001, p-value = 0.97496\n",
      "PreInt_Demos_Fam_Child_Race_11: Chi-Square = 0.000, p-value = 1.00000\n",
      "MRI_Track_Scan_Location_1: Chi-Square = 0.087, p-value = 0.76783\n",
      "MRI_Track_Scan_Location_2: Chi-Square = 0.429, p-value = 0.51261\n",
      "MRI_Track_Scan_Location_3: Chi-Square = 0.008, p-value = 0.93008\n",
      "MRI_Track_Scan_Location_4: Chi-Square = 3.587, p-value = 0.05825\n",
      "Barratt_Barratt_P1_Edu_3: Chi-Square = 0.061, p-value = 0.80501\n",
      "Barratt_Barratt_P1_Edu_6: Chi-Square = 0.669, p-value = 0.41324\n",
      "Barratt_Barratt_P1_Edu_9: Chi-Square = 2.702, p-value = 0.10022\n",
      "Barratt_Barratt_P1_Edu_12: Chi-Square = 0.370, p-value = 0.54296\n",
      "Barratt_Barratt_P1_Edu_15: Chi-Square = 1.799, p-value = 0.17987\n",
      "Barratt_Barratt_P1_Edu_18: Chi-Square = 0.382, p-value = 0.53664\n",
      "Barratt_Barratt_P1_Edu_21: Chi-Square = 3.371, p-value = 0.06636\n",
      "Barratt_Barratt_P1_Occ_5: Chi-Square = 0.037, p-value = 0.84783\n",
      "Barratt_Barratt_P1_Occ_10: Chi-Square = 0.273, p-value = 0.60131\n",
      "Barratt_Barratt_P1_Occ_15: Chi-Square = 0.017, p-value = 0.89707\n",
      "Barratt_Barratt_P1_Occ_20: Chi-Square = 0.971, p-value = 0.32440\n",
      "Barratt_Barratt_P1_Occ_25: Chi-Square = 0.000, p-value = 1.00000\n",
      "Barratt_Barratt_P1_Occ_30: Chi-Square = 0.131, p-value = 0.71748\n",
      "Barratt_Barratt_P1_Occ_35: Chi-Square = 0.425, p-value = 0.51443\n",
      "Barratt_Barratt_P1_Occ_40: Chi-Square = 1.742, p-value = 0.18684\n",
      "Barratt_Barratt_P1_Occ_45: Chi-Square = 0.000, p-value = 0.99211\n",
      "Barratt_Barratt_P2_Edu_3: Chi-Square = 1.750, p-value = 0.18585\n",
      "Barratt_Barratt_P2_Edu_6: Chi-Square = 1.109, p-value = 0.29233\n",
      "Barratt_Barratt_P2_Edu_9: Chi-Square = 2.349, p-value = 0.12533\n",
      "Barratt_Barratt_P2_Edu_12: Chi-Square = 1.501, p-value = 0.22046\n",
      "Barratt_Barratt_P2_Edu_15: Chi-Square = 1.501, p-value = 0.22046\n",
      "Barratt_Barratt_P2_Edu_18: Chi-Square = 0.043, p-value = 0.83594\n",
      "Barratt_Barratt_P2_Edu_21: Chi-Square = 0.022, p-value = 0.88281\n",
      "Barratt_Barratt_P2_Occ_5: Chi-Square = 0.775, p-value = 0.37876\n",
      "Barratt_Barratt_P2_Occ_10: Chi-Square = 1.204, p-value = 0.27249\n",
      "Barratt_Barratt_P2_Occ_15: Chi-Square = 0.117, p-value = 0.73216\n",
      "Barratt_Barratt_P2_Occ_20: Chi-Square = 0.833, p-value = 0.36131\n",
      "Barratt_Barratt_P2_Occ_25: Chi-Square = 2.970, p-value = 0.08481\n",
      "Barratt_Barratt_P2_Occ_30: Chi-Square = 0.001, p-value = 0.98165\n",
      "Barratt_Barratt_P2_Occ_35: Chi-Square = 0.000, p-value = 1.00000\n",
      "Barratt_Barratt_P2_Occ_40: Chi-Square = 0.151, p-value = 0.69805\n",
      "Barratt_Barratt_P2_Occ_45: Chi-Square = 3.634, p-value = 0.05662\n",
      "ADHD_Outcome: Chi-Square = 5.432, p-value = 0.01977\n"
     ]
    }
   ],
   "source": [
    "# List of categorical columns (excluding participant_id & Sex_F)\n",
    "cat_columns = [col for col in combined_df.columns if combined_df[col].nunique() < 10 and col not in ['participant_id', 'Sex_F']]\n",
    "print(\"Chi-Square test of demographic variables and sex\")\n",
    "# Loop through categorical variables and run Chi-Square test\n",
    "significant_cat2 = {} #initialize dictionary for p values that are < 0.05\n",
    "for col in cat_columns:\n",
    "    contingency_table = pd.crosstab(combined_df[col], combined_df['Sex_F'])\n",
    "    chi2, p, _, _ = chi2_contingency(contingency_table)\n",
    "    print(f\"{col}: Chi-Square = {chi2:.3f}, p-value = {p:.5f}\")\n",
    "    if p < 0.05: #if p val < 0.05, add to dict\n",
    "        significant_cat2[col] = p"
   ]
  },
  {
   "cell_type": "code",
   "execution_count": 10,
   "id": "07a8e15f-9f3c-4b0b-a126-3a099e406406",
   "metadata": {},
   "outputs": [
    {
     "name": "stdout",
     "output_type": "stream",
     "text": [
      "-----------------------\n",
      "Significant Categorical Features with Sex (p < 0.05):\n",
      "ADHD_Outcome: p-value = 0.01977\n"
     ]
    }
   ],
   "source": [
    "print(\"-----------------------\")\n",
    "print(\"Significant Categorical Features with Sex (p < 0.05):\")\n",
    "for col, p in significant_cat2.items(): #print dict w significant p vals\n",
    "    print(f\"{col}: p-value = {p:.5f}\")"
   ]
  }
 ],
 "metadata": {
  "kernelspec": {
   "display_name": "Python 3 (ipykernel)",
   "language": "python",
   "name": "python3"
  },
  "language_info": {
   "codemirror_mode": {
    "name": "ipython",
    "version": 3
   },
   "file_extension": ".py",
   "mimetype": "text/x-python",
   "name": "python",
   "nbconvert_exporter": "python",
   "pygments_lexer": "ipython3",
   "version": "3.12.3"
  }
 },
 "nbformat": 4,
 "nbformat_minor": 5
}
