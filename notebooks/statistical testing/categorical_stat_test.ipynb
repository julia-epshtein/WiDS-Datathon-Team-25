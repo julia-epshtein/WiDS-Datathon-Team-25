{
 "cells": [
  {
   "cell_type": "code",
   "execution_count": 1,
   "id": "9ac52e03-73e7-4e20-9022-135c1021aa1d",
   "metadata": {},
   "outputs": [],
   "source": [
    "import os\n",
    "from pathlib import Path\n",
    "from scipy.stats import chi2_contingency\n",
    "import pandas as pd"
   ]
  },
  {
   "cell_type": "code",
   "execution_count": 8,
   "id": "d9aa00b6-30db-4b42-bf43-5e02eabf4630",
   "metadata": {},
   "outputs": [
    {
     "data": {
      "text/html": [
       "<div>\n",
       "<style scoped>\n",
       "    .dataframe tbody tr th:only-of-type {\n",
       "        vertical-align: middle;\n",
       "    }\n",
       "\n",
       "    .dataframe tbody tr th {\n",
       "        vertical-align: top;\n",
       "    }\n",
       "\n",
       "    .dataframe thead th {\n",
       "        text-align: right;\n",
       "    }\n",
       "</style>\n",
       "<table border=\"1\" class=\"dataframe\">\n",
       "  <thead>\n",
       "    <tr style=\"text-align: right;\">\n",
       "      <th></th>\n",
       "      <th>participant_id</th>\n",
       "      <th>Basic_Demos_Enroll_Year</th>\n",
       "      <th>Basic_Demos_Study_Site</th>\n",
       "      <th>PreInt_Demos_Fam_Child_Ethnicity</th>\n",
       "      <th>PreInt_Demos_Fam_Child_Race</th>\n",
       "      <th>MRI_Track_Scan_Location</th>\n",
       "      <th>Barratt_Barratt_P1_Edu</th>\n",
       "      <th>Barratt_Barratt_P1_Occ</th>\n",
       "      <th>Barratt_Barratt_P2_Edu</th>\n",
       "      <th>Barratt_Barratt_P2_Occ</th>\n",
       "      <th>ADHD_Outcome</th>\n",
       "      <th>Sex_F</th>\n",
       "      <th>Female_ADHD</th>\n",
       "    </tr>\n",
       "  </thead>\n",
       "  <tbody>\n",
       "    <tr>\n",
       "      <th>0</th>\n",
       "      <td>UmrK0vMLopoR</td>\n",
       "      <td>2016</td>\n",
       "      <td>1</td>\n",
       "      <td>0.0</td>\n",
       "      <td>0</td>\n",
       "      <td>1</td>\n",
       "      <td>21</td>\n",
       "      <td>45</td>\n",
       "      <td>21</td>\n",
       "      <td>45</td>\n",
       "      <td>1</td>\n",
       "      <td>1</td>\n",
       "      <td>1</td>\n",
       "    </tr>\n",
       "    <tr>\n",
       "      <th>1</th>\n",
       "      <td>CPaeQkhcjg7d</td>\n",
       "      <td>2019</td>\n",
       "      <td>3</td>\n",
       "      <td>1.0</td>\n",
       "      <td>2</td>\n",
       "      <td>3</td>\n",
       "      <td>15</td>\n",
       "      <td>15</td>\n",
       "      <td>0</td>\n",
       "      <td>0</td>\n",
       "      <td>1</td>\n",
       "      <td>0</td>\n",
       "      <td>0</td>\n",
       "    </tr>\n",
       "    <tr>\n",
       "      <th>2</th>\n",
       "      <td>Nb4EetVPm3gs</td>\n",
       "      <td>2016</td>\n",
       "      <td>1</td>\n",
       "      <td>1.0</td>\n",
       "      <td>8</td>\n",
       "      <td>1</td>\n",
       "      <td>18</td>\n",
       "      <td>40</td>\n",
       "      <td>0</td>\n",
       "      <td>0</td>\n",
       "      <td>1</td>\n",
       "      <td>0</td>\n",
       "      <td>0</td>\n",
       "    </tr>\n",
       "    <tr>\n",
       "      <th>3</th>\n",
       "      <td>p4vPhVu91o4b</td>\n",
       "      <td>2018</td>\n",
       "      <td>3</td>\n",
       "      <td>0.0</td>\n",
       "      <td>8</td>\n",
       "      <td>3</td>\n",
       "      <td>15</td>\n",
       "      <td>30</td>\n",
       "      <td>18</td>\n",
       "      <td>0</td>\n",
       "      <td>1</td>\n",
       "      <td>1</td>\n",
       "      <td>1</td>\n",
       "    </tr>\n",
       "    <tr>\n",
       "      <th>4</th>\n",
       "      <td>M09PXs7arQ5E</td>\n",
       "      <td>2019</td>\n",
       "      <td>3</td>\n",
       "      <td>0.0</td>\n",
       "      <td>1</td>\n",
       "      <td>3</td>\n",
       "      <td>15</td>\n",
       "      <td>20</td>\n",
       "      <td>0</td>\n",
       "      <td>0</td>\n",
       "      <td>1</td>\n",
       "      <td>1</td>\n",
       "      <td>1</td>\n",
       "    </tr>\n",
       "  </tbody>\n",
       "</table>\n",
       "</div>"
      ],
      "text/plain": [
       "  participant_id  Basic_Demos_Enroll_Year  Basic_Demos_Study_Site  \\\n",
       "0   UmrK0vMLopoR                     2016                       1   \n",
       "1   CPaeQkhcjg7d                     2019                       3   \n",
       "2   Nb4EetVPm3gs                     2016                       1   \n",
       "3   p4vPhVu91o4b                     2018                       3   \n",
       "4   M09PXs7arQ5E                     2019                       3   \n",
       "\n",
       "   PreInt_Demos_Fam_Child_Ethnicity  PreInt_Demos_Fam_Child_Race  \\\n",
       "0                               0.0                            0   \n",
       "1                               1.0                            2   \n",
       "2                               1.0                            8   \n",
       "3                               0.0                            8   \n",
       "4                               0.0                            1   \n",
       "\n",
       "   MRI_Track_Scan_Location  Barratt_Barratt_P1_Edu  Barratt_Barratt_P1_Occ  \\\n",
       "0                        1                      21                      45   \n",
       "1                        3                      15                      15   \n",
       "2                        1                      18                      40   \n",
       "3                        3                      15                      30   \n",
       "4                        3                      15                      20   \n",
       "\n",
       "   Barratt_Barratt_P2_Edu  Barratt_Barratt_P2_Occ  ADHD_Outcome  Sex_F  \\\n",
       "0                      21                      45             1      1   \n",
       "1                       0                       0             1      0   \n",
       "2                       0                       0             1      0   \n",
       "3                      18                       0             1      1   \n",
       "4                       0                       0             1      1   \n",
       "\n",
       "   Female_ADHD  \n",
       "0            1  \n",
       "1            0  \n",
       "2            0  \n",
       "3            1  \n",
       "4            1  "
      ]
     },
     "execution_count": 8,
     "metadata": {},
     "output_type": "execute_result"
    }
   ],
   "source": [
    "#Load and merge categorical data\n",
    "BASE_DIR = Path(\"../../data\")\n",
    "RAW_DIR = BASE_DIR / \"raw\" / \"widsdatathon2025\"\n",
    "\n",
    "train_cat = pd.read_excel(RAW_DIR / \"TRAIN/TRAIN_CATEGORICAL_METADATA.xlsx\")\n",
    "train_solutions = pd.read_excel(RAW_DIR / \"TRAIN/TRAINING_SOLUTIONS.xlsx\")\n",
    "\n",
    "#create a female ADHD column\n",
    "train_solutions[\"Female_ADHD\"] = ((train_solutions[\"Sex_F\"] == 1) & (train_solutions[\"ADHD_Outcome\"] == 1)).astype(int)\n",
    "\n",
    "combined_df = pd.merge(train_cat, train_solutions, on='participant_id')\n",
    "combined_df.head()\n"
   ]
  },
  {
   "cell_type": "markdown",
   "id": "0a42ff70",
   "metadata": {},
   "source": [
    "Chi Square Test of ADHD_Outcome and every variable, printing chi sq and p value"
   ]
  },
  {
   "cell_type": "code",
   "execution_count": 9,
   "id": "97f3f734-9c92-4cb0-a829-b62a6cd6af01",
   "metadata": {},
   "outputs": [
    {
     "name": "stdout",
     "output_type": "stream",
     "text": [
      "Chi-Square test of demographic variables and adhd outcome\n",
      "Basic_Demos_Enroll_Year: Chi-Square = 46.945, p-value = 0.00000\n",
      "Basic_Demos_Study_Site: Chi-Square = 10.538, p-value = 0.01450\n",
      "PreInt_Demos_Fam_Child_Ethnicity: Chi-Square = 1.642, p-value = 0.64999\n",
      "MRI_Track_Scan_Location: Chi-Square = 32.946, p-value = 0.00000\n",
      "Barratt_Barratt_P1_Edu: Chi-Square = 2.862, p-value = 0.89744\n",
      "Barratt_Barratt_P2_Edu: Chi-Square = 1.963, p-value = 0.96188\n",
      "Sex_F: Chi-Square = 20.175, p-value = 0.00001\n",
      "Female_ADHD: Chi-Square = 142.923, p-value = 0.00000\n"
     ]
    }
   ],
   "source": [
    "# List of categorical columns (excluding participant_id & ADHD_Outcome)\n",
    "cat_columns = [col for col in combined_df.columns if combined_df[col].nunique() < 10 and col not in ['participant_id', 'ADHD_Outcome']]\n",
    "print(\"Chi-Square test of demographic variables and adhd outcome\")\n",
    "# Loop through categorical variables and run Chi-Square test\n",
    "significant_cat = {} #initialize dictionary for p values that are < 0.05\n",
    "for col in cat_columns:\n",
    "    contingency_table = pd.crosstab(combined_df[col], combined_df['ADHD_Outcome'])\n",
    "    chi2, p, _, _ = chi2_contingency(contingency_table)\n",
    "    print(f\"{col}: Chi-Square = {chi2:.3f}, p-value = {p:.5f}\")\n",
    "    if p < 0.05: #if p val < 0.05, add to dict\n",
    "        significant_cat[col] = p"
   ]
  },
  {
   "cell_type": "code",
   "execution_count": 10,
   "id": "3d2e3916-2888-4aa5-a69f-026b31eab20a",
   "metadata": {},
   "outputs": [
    {
     "name": "stdout",
     "output_type": "stream",
     "text": [
      "-----------------------\n",
      "Significant Categorical Features with ADHD Outcome (p < 0.05):\n",
      "Basic_Demos_Enroll_Year: p-value = 0.00000\n",
      "Basic_Demos_Study_Site: p-value = 0.01450\n",
      "MRI_Track_Scan_Location: p-value = 0.00000\n",
      "Sex_F: p-value = 0.00001\n",
      "Female_ADHD: p-value = 0.00000\n"
     ]
    }
   ],
   "source": [
    "print(\"-----------------------\")\n",
    "print(\"Significant Categorical Features with ADHD Outcome (p < 0.05):\")\n",
    "for col, p in significant_cat.items(): #print dict w significant p vals\n",
    "    print(f\"{col}: p-value = {p:.5f}\")"
   ]
  },
  {
   "cell_type": "markdown",
   "id": "1781fbc6",
   "metadata": {},
   "source": [
    "Chi Square Test of Sex_F and every variable, printing chi sq and p value"
   ]
  },
  {
   "cell_type": "code",
   "execution_count": 11,
   "id": "f29410e8-8d68-4e5b-be3e-f724f74f5199",
   "metadata": {},
   "outputs": [
    {
     "name": "stdout",
     "output_type": "stream",
     "text": [
      "Chi-Square test of demographic variables and sex\n",
      "Basic_Demos_Enroll_Year: Chi-Square = 4.239, p-value = 0.51560\n",
      "Basic_Demos_Study_Site: Chi-Square = 3.593, p-value = 0.30890\n",
      "PreInt_Demos_Fam_Child_Ethnicity: Chi-Square = 1.035, p-value = 0.79269\n",
      "MRI_Track_Scan_Location: Chi-Square = 7.897, p-value = 0.09543\n",
      "Barratt_Barratt_P1_Edu: Chi-Square = 10.374, p-value = 0.16836\n",
      "Barratt_Barratt_P2_Edu: Chi-Square = 10.466, p-value = 0.16365\n",
      "ADHD_Outcome: Chi-Square = 20.175, p-value = 0.00001\n",
      "Female_ADHD: Chi-Square = 599.641, p-value = 0.00000\n"
     ]
    }
   ],
   "source": [
    "# List of categorical columns (excluding participant_id & Sex_F)\n",
    "cat_columns = [col for col in combined_df.columns if combined_df[col].nunique() < 10 and col not in ['participant_id', 'Sex_F']]\n",
    "print(\"Chi-Square test of demographic variables and sex\")\n",
    "# Loop through categorical variables and run Chi-Square test\n",
    "significant_cat2 = {} #initialize dictionary for p values that are < 0.05\n",
    "for col in cat_columns:\n",
    "    contingency_table = pd.crosstab(combined_df[col], combined_df['Sex_F'])\n",
    "    chi2, p, _, _ = chi2_contingency(contingency_table)\n",
    "    print(f\"{col}: Chi-Square = {chi2:.3f}, p-value = {p:.5f}\")\n",
    "    if p < 0.05: #if p val < 0.05, add to dict\n",
    "        significant_cat2[col] = p"
   ]
  },
  {
   "cell_type": "code",
   "execution_count": 12,
   "id": "07a8e15f-9f3c-4b0b-a126-3a099e406406",
   "metadata": {},
   "outputs": [
    {
     "name": "stdout",
     "output_type": "stream",
     "text": [
      "-----------------------\n",
      "Significant Categorical Features with Sex (p < 0.05):\n",
      "ADHD_Outcome: p-value = 0.00001\n",
      "Female_ADHD: p-value = 0.00000\n"
     ]
    }
   ],
   "source": [
    "print(\"-----------------------\")\n",
    "print(\"Significant Categorical Features with Sex (p < 0.05):\")\n",
    "for col, p in significant_cat2.items(): #print dict w significant p vals\n",
    "    print(f\"{col}: p-value = {p:.5f}\")"
   ]
  },
  {
   "cell_type": "markdown",
   "id": "4883379f",
   "metadata": {},
   "source": [
    "Chi Sq between female_adhd and other variables"
   ]
  },
  {
   "cell_type": "code",
   "execution_count": null,
   "id": "10a85a0b",
   "metadata": {},
   "outputs": [
    {
     "name": "stdout",
     "output_type": "stream",
     "text": [
      "Chi-Square test of demographic variables and sex\n",
      "\n",
      "Chi-Square test of demographic variables and Female_ADHD:\n",
      "Basic_Demos_Enroll_Year: Chi-Square = 4.629, p-value = 0.46281\n",
      "Basic_Demos_Study_Site: Chi-Square = 1.377, p-value = 0.71095\n",
      "PreInt_Demos_Fam_Child_Ethnicity: Chi-Square = 1.765, p-value = 0.62268\n",
      "PreInt_Demos_Fam_Child_Race: Chi-Square = 4.158, p-value = 0.90071\n",
      "MRI_Track_Scan_Location: Chi-Square = 4.216, p-value = 0.37760\n",
      "Barratt_Barratt_P1_Edu: Chi-Square = 8.745, p-value = 0.27151\n",
      "Barratt_Barratt_P1_Occ: Chi-Square = 6.790, p-value = 0.65899\n",
      "Barratt_Barratt_P2_Edu: Chi-Square = 4.308, p-value = 0.74371\n",
      "Barratt_Barratt_P2_Occ: Chi-Square = 12.315, p-value = 0.19613\n",
      "Female_ADHD: Chi-Square = 1206.896, p-value = 0.00000\n"
     ]
    }
   ],
   "source": [
    "# List of categorical columns (excluding participant_id & Sex_F & ADHD_Outcome)\n",
    "cat_columns = [col for col in combined_df.columns if col not in ['participant_id', 'Sex_F', 'ADHD_Outcome']]\n",
    "# Loop through categorical variables and run Chi-Square test\n",
    "# Initialize dictionaries for significant results\n",
    "significant_female_adhd = {}\n",
    "print(\"\\nChi-Square test of demographic variables and Female_ADHD:\")\n",
    "for col in cat_columns:\n",
    "    contingency_table = pd.crosstab(combined_df[col], combined_df['Female_ADHD'])\n",
    "    chi2, p, _, _ = chi2_contingency(contingency_table)\n",
    "    print(f\"{col}: Chi-Square = {chi2:.3f}, p-value = {p:.5f}\")\n",
    "    if p < 0.05:  \n",
    "        significant_female_adhd[col] = p"
   ]
  },
  {
   "cell_type": "code",
   "execution_count": 14,
   "id": "b7d85e6e",
   "metadata": {},
   "outputs": [
    {
     "name": "stdout",
     "output_type": "stream",
     "text": [
      "-----------------------\n",
      "Significant Categorical Features with FemaleADHD (p < 0.05):\n",
      "Female_ADHD: p-value = 0.00000\n"
     ]
    }
   ],
   "source": [
    "print(\"-----------------------\")\n",
    "print(\"Significant Categorical Features with FemaleADHD (p < 0.05):\")\n",
    "for col, p in significant_female_adhd.items(): #print dict w significant p vals\n",
    "    print(f\"{col}: p-value = {p:.5f}\")"
   ]
  }
 ],
 "metadata": {
  "kernelspec": {
   "display_name": "venv",
   "language": "python",
   "name": "python3"
  },
  "language_info": {
   "codemirror_mode": {
    "name": "ipython",
    "version": 3
   },
   "file_extension": ".py",
   "mimetype": "text/x-python",
   "name": "python",
   "nbconvert_exporter": "python",
   "pygments_lexer": "ipython3",
   "version": "3.10.11"
  }
 },
 "nbformat": 4,
 "nbformat_minor": 5
}
