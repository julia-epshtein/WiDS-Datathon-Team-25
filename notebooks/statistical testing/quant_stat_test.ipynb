{
 "cells": [
  {
   "cell_type": "code",
   "execution_count": 17,
   "id": "1ece4ffb-b0e7-4724-8d56-b4d8a4a6051a",
   "metadata": {},
   "outputs": [],
   "source": [
    "from scipy.stats import chi2_contingency\n",
    "import pandas as pd"
   ]
  },
  {
   "cell_type": "code",
   "execution_count": 18,
   "id": "556911eb-3ce8-452a-98b1-293e0bd89284",
   "metadata": {},
   "outputs": [],
   "source": [
    "#edit paths as needed: i am not very good with OS, i prefer to just hard code the paths so replace it with the actual path to the data OR help me fix hehe\n",
    "train_quant = pd.read_excel('C:/Users/linds/OneDrive/Desktop/WIDS/WiDS-Datathon-Team-25/data/raw/TRAIN/TRAIN_QUANTITATIVE_METADATA.xlsx')\n",
    "train_sex = pd.read_excel('C:/Users/linds/OneDrive/Desktop/WIDS/WiDS-Datathon-Team-25/data/raw/TRAIN/TRAINING_SOLUTIONS.xlsx')\n",
    "combined_df = pd.merge(train_quant, train_sex, on='participant_id')\n",
    "# print(combined_df.head())"
   ]
  },
  {
   "cell_type": "code",
   "execution_count": 19,
   "id": "b4862df2-cbc6-4d63-a10e-1b9d96be3164",
   "metadata": {},
   "outputs": [],
   "source": [
    "#CHI SQUARE TEST OF ADHD_OUTCOME AND EVERY VARIABLE, PRINTING CHI SQ AND P VALUE"
   ]
  },
  {
   "cell_type": "code",
   "execution_count": 20,
   "id": "f1f73c63-b99b-40d3-93b6-66fb8c375dc6",
   "metadata": {},
   "outputs": [
    {
     "name": "stdout",
     "output_type": "stream",
     "text": [
      "Chi-Square test of numerical variables and adhd outcome\n",
      "EHQ_EHQ_Total: Chi-Square = 157.543, p-value = 0.47280\n",
      "ColorVision_CV_Score: Chi-Square = 12.625, p-value = 0.47719\n",
      "APQ_P_APQ_P_CP: Chi-Square = 13.653, p-value = 0.18940\n",
      "APQ_P_APQ_P_ID: Chi-Square = 37.107, p-value = 0.01636\n",
      "APQ_P_APQ_P_INV: Chi-Square = 36.513, p-value = 0.08262\n",
      "APQ_P_APQ_P_OPD: Chi-Square = 50.223, p-value = 0.00034\n",
      "APQ_P_APQ_P_PM: Chi-Square = 35.693, p-value = 0.21829\n",
      "APQ_P_APQ_P_PP: Chi-Square = 20.703, p-value = 0.23986\n",
      "SDQ_SDQ_Conduct_Problems: Chi-Square = 106.177, p-value = 0.00000\n",
      "SDQ_SDQ_Difficulties_Total: Chi-Square = 314.505, p-value = 0.00000\n",
      "SDQ_SDQ_Emotional_Problems: Chi-Square = 63.160, p-value = 0.00000\n",
      "SDQ_SDQ_Externalizing: Chi-Square = 366.308, p-value = 0.00000\n",
      "SDQ_SDQ_Generating_Impact: Chi-Square = 245.953, p-value = 0.00000\n",
      "SDQ_SDQ_Hyperactivity: Chi-Square = 414.547, p-value = 0.00000\n",
      "SDQ_SDQ_Internalizing: Chi-Square = 101.508, p-value = 0.00000\n",
      "SDQ_SDQ_Peer_Problems: Chi-Square = 68.237, p-value = 0.00000\n",
      "SDQ_SDQ_Prosocial: Chi-Square = 54.763, p-value = 0.00000\n",
      "MRI_Track_Age_at_Scan: Chi-Square = 843.810, p-value = 0.42769\n",
      "Sex_F: Chi-Square = 20.175, p-value = 0.00001\n"
     ]
    }
   ],
   "source": [
    "# List of numerical columns (excluding participant_id & ADHD_Outcome)\n",
    "num_columns = [col for col in combined_df.columns if col not in ['participant_id', 'ADHD_Outcome']]\n",
    "print(\"Chi-Square test of numerical variables and adhd outcome\")\n",
    "# Loop through numerica; variables and run Chi-Square test\n",
    "significant_num = {}\n",
    "for col in num_columns:\n",
    "    contingency_table = pd.crosstab(combined_df[col], combined_df['ADHD_Outcome'])\n",
    "    chi2, p, _, _ = chi2_contingency(contingency_table)\n",
    "    print(f\"{col}: Chi-Square = {chi2:.3f}, p-value = {p:.5f}\")\n",
    "    if p < 0.05:\n",
    "        significant_num[col] = p"
   ]
  },
  {
   "cell_type": "code",
   "execution_count": 21,
   "id": "c0280e93-5d2e-4b4b-8795-494eceeace99",
   "metadata": {},
   "outputs": [
    {
     "name": "stdout",
     "output_type": "stream",
     "text": [
      "-----------------------\n",
      "Significant Numerical Features with ADHD Outcome (p < 0.05):\n",
      "APQ_P_APQ_P_ID: p-value = 0.01636\n",
      "APQ_P_APQ_P_OPD: p-value = 0.00034\n",
      "SDQ_SDQ_Conduct_Problems: p-value = 0.00000\n",
      "SDQ_SDQ_Difficulties_Total: p-value = 0.00000\n",
      "SDQ_SDQ_Emotional_Problems: p-value = 0.00000\n",
      "SDQ_SDQ_Externalizing: p-value = 0.00000\n",
      "SDQ_SDQ_Generating_Impact: p-value = 0.00000\n",
      "SDQ_SDQ_Hyperactivity: p-value = 0.00000\n",
      "SDQ_SDQ_Internalizing: p-value = 0.00000\n",
      "SDQ_SDQ_Peer_Problems: p-value = 0.00000\n",
      "SDQ_SDQ_Prosocial: p-value = 0.00000\n",
      "Sex_F: p-value = 0.00001\n"
     ]
    }
   ],
   "source": [
    "print(\"-----------------------\")\n",
    "print(\"Significant Numerical Features with ADHD Outcome (p < 0.05):\")\n",
    "for col, p in significant_num.items():\n",
    "    print(f\"{col}: p-value = {p:.5f}\")"
   ]
  },
  {
   "cell_type": "code",
   "execution_count": 22,
   "id": "2fa3251d-0e0e-4d95-aee2-24120023eeff",
   "metadata": {},
   "outputs": [
    {
     "data": {
      "text/plain": [
       "'\\nrepeat the process but use gender instead of adhd_outcome \\n'"
      ]
     },
     "execution_count": 22,
     "metadata": {},
     "output_type": "execute_result"
    }
   ],
   "source": [
    "\n",
    "'''\n",
    "repeat the process but use gender instead of adhd_outcome \n",
    "'''"
   ]
  },
  {
   "cell_type": "code",
   "execution_count": 23,
   "id": "0f86089f-5767-4c25-8abf-6e5090c06937",
   "metadata": {},
   "outputs": [
    {
     "name": "stdout",
     "output_type": "stream",
     "text": [
      "Chi-Square test of demographic variables and sex\n",
      "EHQ_EHQ_Total: Chi-Square = 166.483, p-value = 0.28700\n",
      "ColorVision_CV_Score: Chi-Square = 19.523, p-value = 0.10777\n",
      "APQ_P_APQ_P_CP: Chi-Square = 7.371, p-value = 0.69000\n",
      "APQ_P_APQ_P_ID: Chi-Square = 27.355, p-value = 0.15942\n",
      "APQ_P_APQ_P_INV: Chi-Square = 31.227, p-value = 0.21994\n",
      "APQ_P_APQ_P_OPD: Chi-Square = 20.859, p-value = 0.46759\n",
      "APQ_P_APQ_P_PM: Chi-Square = 19.130, p-value = 0.93723\n",
      "APQ_P_APQ_P_PP: Chi-Square = 20.501, p-value = 0.24940\n",
      "SDQ_SDQ_Conduct_Problems: Chi-Square = 8.119, p-value = 0.61722\n",
      "SDQ_SDQ_Difficulties_Total: Chi-Square = 31.398, p-value = 0.54694\n",
      "SDQ_SDQ_Emotional_Problems: Chi-Square = 20.717, p-value = 0.02316\n",
      "SDQ_SDQ_Externalizing: Chi-Square = 35.110, p-value = 0.01952\n",
      "SDQ_SDQ_Generating_Impact: Chi-Square = 9.723, p-value = 0.46509\n",
      "SDQ_SDQ_Hyperactivity: Chi-Square = 33.435, p-value = 0.00023\n",
      "SDQ_SDQ_Internalizing: Chi-Square = 27.062, p-value = 0.05717\n",
      "SDQ_SDQ_Peer_Problems: Chi-Square = 5.316, p-value = 0.80596\n",
      "SDQ_SDQ_Prosocial: Chi-Square = 26.601, p-value = 0.00301\n",
      "MRI_Track_Age_at_Scan: Chi-Square = 830.791, p-value = 0.55402\n",
      "ADHD_Outcome: Chi-Square = 20.175, p-value = 0.00001\n"
     ]
    }
   ],
   "source": [
    "# List of  numerical columns (excluding participant_id & Sex_F)\n",
    "num_columns = [col for col in combined_df.columns if col not in ['participant_id', 'Sex_F']]\n",
    "print(\"Chi-Square test of demographic variables and sex\")\n",
    "# Loop through categorical variables and run Chi-Square test\n",
    "significant_num2 = {}\n",
    "for col in num_columns:\n",
    "    contingency_table = pd.crosstab(combined_df[col], combined_df['Sex_F'])\n",
    "    chi2, p, _, _ = chi2_contingency(contingency_table)\n",
    "    print(f\"{col}: Chi-Square = {chi2:.3f}, p-value = {p:.5f}\")\n",
    "    if p < 0.05:\n",
    "        significant_num2[col] = p"
   ]
  },
  {
   "cell_type": "code",
   "execution_count": 24,
   "id": "819a9168-d739-4f25-b9ff-71f4c854d369",
   "metadata": {},
   "outputs": [
    {
     "name": "stdout",
     "output_type": "stream",
     "text": [
      "-----------------------\n",
      "Significant Numerical Features with Sex (p < 0.05):\n",
      "SDQ_SDQ_Emotional_Problems: p-value = 0.02316\n",
      "SDQ_SDQ_Externalizing: p-value = 0.01952\n",
      "SDQ_SDQ_Hyperactivity: p-value = 0.00023\n",
      "SDQ_SDQ_Prosocial: p-value = 0.00301\n",
      "ADHD_Outcome: p-value = 0.00001\n"
     ]
    }
   ],
   "source": [
    "print(\"-----------------------\")\n",
    "print(\"Significant Numerical Features with Sex (p < 0.05):\")\n",
    "for col, p in significant_num2.items():\n",
    "    print(f\"{col}: p-value = {p:.5f}\")"
   ]
  }
 ],
 "metadata": {
  "kernelspec": {
   "display_name": "Python 3 (ipykernel)",
   "language": "python",
   "name": "python3"
  },
  "language_info": {
   "codemirror_mode": {
    "name": "ipython",
    "version": 3
   },
   "file_extension": ".py",
   "mimetype": "text/x-python",
   "name": "python",
   "nbconvert_exporter": "python",
   "pygments_lexer": "ipython3",
   "version": "3.12.3"
  }
 },
 "nbformat": 4,
 "nbformat_minor": 5
}
